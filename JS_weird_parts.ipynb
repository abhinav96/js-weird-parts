{
  "nbformat": 4,
  "nbformat_minor": 0,
  "metadata": {
    "colab": {
      "name": "JS weird parts.ipynb",
      "provenance": [],
      "collapsed_sections": [
        "nP95BsTJqAeI",
        "7OyV3Vgh6Sh_",
        "XQ6Akspa3aqs",
        "23waMAhBfJKq",
        "y7YKWSxf8_4i",
        "O_BxR76gz4lE",
        "MCebFFLo0EXX",
        "iNMYP5ihDrMo"
      ],
      "include_colab_link": true
    },
    "kernelspec": {
      "name": "javascript",
      "display_name": "Javascript"
    }
  },
  "cells": [
    {
      "cell_type": "markdown",
      "metadata": {
        "id": "view-in-github",
        "colab_type": "text"
      },
      "source": [
        "<a href=\"https://colab.research.google.com/github/abhinav96/js-weird-parts/blob/master/JS_weird_parts.ipynb\" target=\"_parent\"><img src=\"https://colab.research.google.com/assets/colab-badge.svg\" alt=\"Open In Colab\"/></a>"
      ]
    },
    {
      "cell_type": "markdown",
      "metadata": {
        "id": "tgJRTD4TEK8c",
        "colab_type": "text"
      },
      "source": [
        "# JavaScript: Understanding The Weird Parts\n",
        "This is a summary of my learnings from the course [JavaScript: Understanding The Weird Parts](https://www.udemy.com/course/understand-javascript/) taught by Anthony Alicea\n",
        "\n",
        "Here's a link to my certificate of completion: https://ude.my/UC-DJT4BFIO\n",
        "\n",
        "This notebook is not meant as a guide for JS or an alternative to the course; it is just a quick look of some important concepts of JS.\n",
        "\n",
        "The course is a great way to understand core concepts necessary for working with JavaScript."
      ]
    },
    {
      "cell_type": "markdown",
      "metadata": {
        "id": "kFEDLy3eEofW",
        "colab_type": "text"
      },
      "source": [
        "## Initializing Notebook Runtime in Google Colab\n",
        "\n",
        "This notebook was written in Google Colab. The following is necessary to setup JavaScript kernel in that environment.\n",
        "\n",
        "Skip this if the notebook is running in another environment where the kernel is already setup.\n",
        "\n",
        "Credit: https://stackoverflow.com/a/60507269"
      ]
    },
    {
      "cell_type": "code",
      "metadata": {
        "id": "ZVkF16NwcMsZ",
        "colab_type": "code",
        "colab": {}
      },
      "source": [
        "!npm install -g --unsafe-perm ijavascript\n",
        "!ijsinstall --install=global"
      ],
      "execution_count": null,
      "outputs": []
    },
    {
      "cell_type": "markdown",
      "metadata": {
        "id": "VtUD5J7Oo9oK",
        "colab_type": "text"
      },
      "source": [
        "## Execution context and exection stack"
      ]
    },
    {
      "cell_type": "markdown",
      "metadata": {
        "id": "HckKC3zYqv5I",
        "colab_type": "text"
      },
      "source": [
        "In JavaScript, all code is run inside an execution context.\n",
        "An execution context is just a wrapper created by the JS engine, inside which your code is run."
      ]
    },
    {
      "cell_type": "markdown",
      "metadata": {
        "id": "j6erFNELxWkn",
        "colab_type": "text"
      },
      "source": [
        "### Global object and ```this```\n",
        "The JS engine creates 2 things for you in this wrapper:\n",
        "1. Global object (```global``` or ```window``` in case of browsers)\n",
        "2. ```this``` variable"
      ]
    },
    {
      "cell_type": "code",
      "metadata": {
        "id": "FX9NhyWsU1BM",
        "colab_type": "code",
        "colab": {
          "base_uri": "https://localhost:8080/",
          "height": 1000
        },
        "outputId": "d992a4c3-886f-463e-caeb-0b614e2ba8ba"
      },
      "source": [
        "global"
      ],
      "execution_count": 3,
      "outputs": [
        {
          "output_type": "execute_result",
          "data": {
            "text/plain": [
              "{ global: [Circular],\n",
              "  process: \n",
              "   process {\n",
              "     title: '',\n",
              "     version: 'v8.11.3',\n",
              "     moduleLoadList: \n",
              "      [ 'Binding contextify',\n",
              "        'Binding natives',\n",
              "        'Binding config',\n",
              "        'NativeModule events',\n",
              ...
              "     display: [Function: bound createDisplay],\n",
              "     clear: [Function: bound clear] } }"
            ]
          },
          "metadata": {
            "tags": []
          },
          "execution_count": 3
        }
      ]
    },
    {
      "cell_type": "markdown",
      "metadata": {
        "id": "jMR0KVHqtkw-",
        "colab_type": "text"
      },
      "source": [
        "You may notice that ```global``` and ```this``` are the same object."
      ]
    },
    {
      "cell_type": "code",
      "metadata": {
        "id": "tZ95nPVBtRjj",
        "colab_type": "code",
        "colab": {
          "base_uri": "https://localhost:8080/",
          "height": 34
        },
        "outputId": "d79d2c65-df1a-4f4c-fb26-be9b6431be10"
      },
      "source": [
        "global === this;"
      ],
      "execution_count": 4,
      "outputs": [
        {
          "output_type": "execute_result",
          "data": {
            "text/plain": [
              "true"
            ]
          },
          "metadata": {
            "tags": []
          },
          "execution_count": 4
        }
      ]
    },
    {
      "cell_type": "markdown",
      "metadata": {
        "id": "hhLug7MuuPr1",
        "colab_type": "text"
      },
      "source": [
        "But that is because the current line of code is running inside the global execution context.\n",
        "\n",
        "The value of ```this``` changes based on how the code is executed. Because the above code is running in the global execution context, ```this``` points to ```global```.\n",
        "\n",
        "**```this``` does not always point to ```global```.** (More on this later)"
      ]
    },
    {
      "cell_type": "markdown",
      "metadata": {
        "id": "U9C67rJHxl5k",
        "colab_type": "text"
      },
      "source": [
        "### Variables are attaced to the execution context"
      ]
    },
    {
      "cell_type": "markdown",
      "metadata": {
        "id": "vuhmzmDhx4dC",
        "colab_type": "text"
      },
      "source": [
        "Any variables that are created outside of a function are attached to the ```global``` object."
      ]
    },
    {
      "cell_type": "code",
      "metadata": {
        "id": "wrBP364Ku04c",
        "colab_type": "code",
        "colab": {
          "base_uri": "https://localhost:8080/",
          "height": 34
        },
        "outputId": "351463a4-9c2e-4789-acb8-b6a20d50a5d2"
      },
      "source": [
        "var myVar = 'This variable is attached to the global object';\n",
        "global.myVar;"
      ],
      "execution_count": 5,
      "outputs": [
        {
          "output_type": "execute_result",
          "data": {
            "text/plain": [
              "'This variable is attached to the global object'"
            ]
          },
          "metadata": {
            "tags": []
          },
          "execution_count": 5
        }
      ]
    },
    {
      "cell_type": "markdown",
      "metadata": {
        "id": "aYxSBjrKyRWW",
        "colab_type": "text"
      },
      "source": [
        "### Invoking functions create their own execution context"
      ]
    },
    {
      "cell_type": "markdown",
      "metadata": {
        "id": "o5ukiMuTyWb5",
        "colab_type": "text"
      },
      "source": [
        "Whenever a function is called, a new execution context is created.\n",
        "Any variables created inside the function are attached to the function's context, keeping other execution contexts (like global) unaffected."
      ]
    },
    {
      "cell_type": "code",
      "metadata": {
        "id": "K3Ndf1Scyycw",
        "colab_type": "code",
        "colab": {
          "base_uri": "https://localhost:8080/",
          "height": 34
        },
        "outputId": "c1168fd8-4e80-4b35-88be-b68412b0227d"
      },
      "source": [
        "var globalVar = 'This variable is attached to the global object';\n",
        "global.globalVar;"
      ],
      "execution_count": 6,
      "outputs": [
        {
          "output_type": "execute_result",
          "data": {
            "text/plain": [
              "'This variable is attached to the global object'"
            ]
          },
          "metadata": {
            "tags": []
          },
          "execution_count": 6
        }
      ]
    },
    {
      "cell_type": "code",
      "metadata": {
        "id": "3DTPp18-LU4B",
        "colab_type": "code",
        "colab": {
          "base_uri": "https://localhost:8080/",
          "height": 51
        },
        "outputId": "0e719d39-13a0-4bc4-e7c9-772c8df7670a"
      },
      "source": [
        "function myFunction() {\n",
        "  var functionVar = \"This variable is attached to the function's context and is only accessible inside the function\";\n",
        "  console.log(functionVar);\n",
        "  console.log(global.functionVar); // undefined, because functionVar does not affect the global context.\n",
        "}\n",
        "myFunction();"
      ],
      "execution_count": 7,
      "outputs": [
        {
          "output_type": "stream",
          "text": [
            "This variable is attached to the function's context and is only accessible inside the function\n",
            "undefined\n"
          ],
          "name": "stdout"
        }
      ]
    },
    {
      "cell_type": "code",
      "metadata": {
        "id": "IL_JSraLLcaU",
        "colab_type": "code",
        "colab": {
          "base_uri": "https://localhost:8080/",
          "height": 34
        },
        "outputId": "06114703-7cd5-4ca3-81ba-3d4206c1ea82"
      },
      "source": [
        "try {\n",
        "  console.log(functionVar); // also undefined, because the variable is not accessible outside the function's execution context\n",
        "} catch (e) {\n",
        "  console.log(\"Error is thrown when accessing an undefined variable in strict mode\");\n",
        "}"
      ],
      "execution_count": 8,
      "outputs": [
        {
          "output_type": "stream",
          "text": [
            "Error is thrown when accessing an undefined variable in strict mode\n"
          ],
          "name": "stdout"
        }
      ]
    },
    {
      "cell_type": "markdown",
      "metadata": {
        "id": "Qq7cpW83KTRW",
        "colab_type": "text"
      },
      "source": [
        "### Execution stack"
      ]
    },
    {
      "cell_type": "markdown",
      "metadata": {
        "id": "sxdjzmxJYXZ4",
        "colab_type": "text"
      },
      "source": [
        "As seen above, _function invocation_ creates a new execution context.\n",
        "So if we invoke a function ```a``` which invokes another function ```b```, we'll have 3 execution contexts:\n",
        "\n",
        "1. The global execution context\n",
        "2. Execution context of ```a```\n",
        "3. Execution context of ```b```\n",
        "\n",
        "And these are structured like a stack where global is at the bottom, ```a``` sits above it, and ```b``` is at the top.\n",
        "\n",
        "global => a => b (top of stack)\n",
        "\n",
        "**This concept is similar to stack space in other languages**"
      ]
    },
    {
      "cell_type": "markdown",
      "metadata": {
        "id": "wv3So1FLjURd",
        "colab_type": "text"
      },
      "source": [
        "## Scope chain and lexical environment"
      ]
    },
    {
      "cell_type": "markdown",
      "metadata": {
        "id": "YIcRmV2ukIk2",
        "colab_type": "text"
      },
      "source": [
        "### The scope chain"
      ]
    },
    {
      "cell_type": "markdown",
      "metadata": {
        "id": "PsFVEGRZknwr",
        "colab_type": "text"
      },
      "source": [
        "You can access variables defined on the global execution context while being inside a function, like the following"
      ]
    },
    {
      "cell_type": "code",
      "metadata": {
        "id": "I5Bal0xXkyUW",
        "colab_type": "code",
        "colab": {
          "base_uri": "https://localhost:8080/",
          "height": 34
        },
        "outputId": "61628ce7-b71b-4e17-dd4f-660930f6f001"
      },
      "source": [
        "var outsideVar = 'this variable which is defined outside of the function';\n",
        "function myFunction() {\n",
        "  console.log(\"I can access \" + outsideVar);\n",
        "}\n",
        "myFunction();"
      ],
      "execution_count": 9,
      "outputs": [
        {
          "output_type": "stream",
          "text": [
            "I can access this variable which is defined outside of the function\n"
          ],
          "name": "stdout"
        }
      ]
    },
    {
      "cell_type": "markdown",
      "metadata": {
        "id": "ZiMKi2vykxTb",
        "colab_type": "text"
      },
      "source": [
        "You can also access variables declared in an outer function, like the following:"
      ]
    },
    {
      "cell_type": "code",
      "metadata": {
        "id": "3JIwre7Jk7Jd",
        "colab_type": "code",
        "colab": {
          "base_uri": "https://localhost:8080/",
          "height": 34
        },
        "outputId": "38fd4126-9bc1-4a3f-d7c4-ee22ca0e231e"
      },
      "source": [
        "function a() {\n",
        "  var closureVar = \"this variable defined in the outer function\";\n",
        "  function innerFunction() {\n",
        "    console.log(\"I can also access \" + closureVar);\n",
        "  }\n",
        "  innerFunction();\n",
        "}\n",
        "a();"
      ],
      "execution_count": 10,
      "outputs": [
        {
          "output_type": "stream",
          "text": [
            "I can also access this variable defined in the outer function\n"
          ],
          "name": "stdout"
        }
      ]
    },
    {
      "cell_type": "markdown",
      "metadata": {
        "id": "PoHqlg6YlCd5",
        "colab_type": "text"
      },
      "source": [
        "In general, you can access any variables which are in the current scope chain."
      ]
    },
    {
      "cell_type": "markdown",
      "metadata": {
        "id": "N25A6y48mEy4",
        "colab_type": "text"
      },
      "source": [
        "#### Defining the scope chain\n",
        "When a variable is not available in the current execution context, JS engines looks for the variable in the parent execution context. This happens recursively, until we reach the global execution context, which does not have a parent context.\n",
        "\n",
        "This chain of execution contexts is also known as the **scope chain**"
      ]
    },
    {
      "cell_type": "markdown",
      "metadata": {
        "id": "SgAaxUydjeus",
        "colab_type": "text"
      },
      "source": [
        "### Scope chain !== execution stack"
      ]
    },
    {
      "cell_type": "code",
      "metadata": {
        "id": "0jLaoMmvatr1",
        "colab_type": "code",
        "colab": {
          "base_uri": "https://localhost:8080/",
          "height": 317
        },
        "outputId": "f7877f70-07c6-4c2a-9656-b4b98cd72a4f"
      },
      "source": [
        "function a() {\n",
        "  var avar = 1;\n",
        "  b();\n",
        "}\n",
        "function b() {\n",
        "  console.log(avar); // won't work\n",
        "}\n",
        "a();"
      ],
      "execution_count": 11,
      "outputs": [
        {
          "output_type": "error",
          "ename": "ReferenceError",
          "evalue": "ignored",
          "traceback": [
            "evalmachine.<anonymous>:6",
            "  console.log(avar); // won't work",
            "              ^",
            "",
            "ReferenceError: avar is not defined",
            "    at b (evalmachine.<anonymous>:6:15)",
            "    at a (evalmachine.<anonymous>:3:3)",
            "    at evalmachine.<anonymous>:8:1",
            "    at ContextifyScript.Script.runInThisContext (vm.js:50:33)",
            "    at Object.runInThisContext (vm.js:139:38)",
            "    at run ([eval]:1054:15)",
            "    at onRunRequest ([eval]:888:18)",
            "    at onMessage ([eval]:848:13)",
            "    at emitTwo (events.js:126:13)",
            "    at process.emit (events.js:214:7)"
          ]
        }
      ]
    },
    {
      "cell_type": "markdown",
      "metadata": {
        "id": "Ype-Eo3ulue-",
        "colab_type": "text"
      },
      "source": [
        "It might be tempting to think that: because function ```a``` called function ```b```, any variable declared inside ```a``` will be accessible in ```b```.\n",
        "But that's not true.\n",
        "\n",
        "Even though in the execution stack, ```a```'s contex is right below ```b```'s context, ```a``` is not in the scope chain of ```b```.\n",
        "\n",
        "Infact ```b```'s parent scope is the global execution context."
      ]
    },
    {
      "cell_type": "markdown",
      "metadata": {
        "id": "yo9HjzPGmbaA",
        "colab_type": "text"
      },
      "source": [
        "### Scope chain === lexical environment."
      ]
    },
    {
      "cell_type": "markdown",
      "metadata": {
        "id": "nP95BsTJqAeI",
        "colab_type": "text"
      },
      "source": [
        "#### Defining lexical environment\n",
        "\n",
        "Lexical environment is the physical place where a piece of code is written."
      ]
    },
    {
      "cell_type": "code",
      "metadata": {
        "id": "8xbzGtPUqcBb",
        "colab_type": "code",
        "colab": {}
      },
      "source": [
        "function baseLevelFunction() {\n",
        "  // baseLevelFunction's lexical environment is global.\n",
        "  // Because it is written on the top level, not inside anything else\n",
        "}\n",
        "\n",
        "function myFunc() {\n",
        "  function innerFunction() {\n",
        "    // innerFunction's lexical environment is 'myFunc' because it is written inside 'myFunc'\n",
        "  }\n",
        "\n",
        "  // and myFunc's lexical environment is global. Because it is written on the top level.\n",
        "}"
      ],
      "execution_count": 12,
      "outputs": []
    },
    {
      "cell_type": "markdown",
      "metadata": {
        "id": "sL_9uJ4AupUA",
        "colab_type": "text"
      },
      "source": [
        "#### You can access any variable in your lexical environment (read: scope chain)"
      ]
    },
    {
      "cell_type": "code",
      "metadata": {
        "id": "bRx-lWHOu4Bd",
        "colab_type": "code",
        "colab": {
          "base_uri": "https://localhost:8080/",
          "height": 51
        },
        "outputId": "e305d379-f7e4-464a-91e1-ec8d9fb54618"
      },
      "source": [
        "var inGlobalScope = 1;\n",
        "function baseLevelFunction() {\n",
        "  console.log(\"I can access inGlobalScope: \" + inGlobalScope);\n",
        "  console.log(\"Because my code is written in the global lexical environment\");\n",
        "}\n",
        "baseLevelFunction();"
      ],
      "execution_count": 13,
      "outputs": [
        {
          "output_type": "stream",
          "text": [
            "I can access inGlobalScope: 1\n",
            "Because my code is written in the global lexical environment\n"
          ],
          "name": "stdout"
        }
      ]
    },
    {
      "cell_type": "code",
      "metadata": {
        "id": "9b2OuSQAvukW",
        "colab_type": "code",
        "colab": {
          "base_uri": "https://localhost:8080/",
          "height": 68
        },
        "outputId": "b49f901f-284f-4153-d782-eaff37868a02"
      },
      "source": [
        "var inGlobalScope = 1;\n",
        "function myFunc() {\n",
        "  console.log(\"Similarly, myFunc can also access variables in global scope, because its lexical environment is global. See, inGlobalScope: \" + inGlobalScope);\n",
        "  function innerFunction() {\n",
        "    console.log(\"And innerFunction can also access inGlobalScope: \" + inGlobalScope);\n",
        "    console.log(\"by traversing the scope chain, innerFunction => myFunc => global\");\n",
        "  }\n",
        "  innerFunction();\n",
        "}\n",
        "myFunc();"
      ],
      "execution_count": 14,
      "outputs": [
        {
          "output_type": "stream",
          "text": [
            "Similarly, myFunc can also access variables in global scope, because its lexical environment is global. See, inGlobalScope: 1\n",
            "And innerFunction can also access inGlobalScope: 1\n",
            "by traversing the scope chain, innerFunction => myFunc => global\n"
          ],
          "name": "stdout"
        }
      ]
    },
    {
      "cell_type": "markdown",
      "metadata": {
        "id": "blVDA7X1tuCf",
        "colab_type": "text"
      },
      "source": [
        "## Type coercion and ```==``` vs ```===```"
      ]
    },
    {
      "cell_type": "code",
      "metadata": {
        "id": "LJoBvGAqueA6",
        "colab_type": "code",
        "colab": {}
      },
      "source": [
        "var str = '1';\n",
        "var num = 1;"
      ],
      "execution_count": 15,
      "outputs": []
    },
    {
      "cell_type": "code",
      "metadata": {
        "id": "vf1eWCtftzm3",
        "colab_type": "code",
        "colab": {
          "base_uri": "https://localhost:8080/",
          "height": 51
        },
        "outputId": "cdefaadd-af50-4239-d3b2-8d22e62ebe69"
      },
      "source": [
        "console.log(str == num);\n",
        "console.log(str === num);"
      ],
      "execution_count": 16,
      "outputs": [
        {
          "output_type": "stream",
          "text": [
            "true\n",
            "false\n"
          ],
          "name": "stdout"
        }
      ]
    },
    {
      "cell_type": "markdown",
      "metadata": {
        "id": "4TicYPK3umVK",
        "colab_type": "text"
      },
      "source": [
        "When using ```==```, both the sides are **coerced** to the same type, and then compared. In the above example, the string '1' is converted to number 1, so both types match, and then compared if they are equal.\n",
        "\n",
        "When using ```===```, the types are not coerced, both the types and the values must be equal to match."
      ]
    },
    {
      "cell_type": "markdown",
      "metadata": {
        "id": "glcwdFiRyREo",
        "colab_type": "text"
      },
      "source": [
        "You can see which type is converted to which other type here:\n",
        "https://developer.mozilla.org/en-US/docs/Web/JavaScript/Equality_comparisons_and_sameness#Loose_equality_using\n",
        "\n",
        "The summary is:\n",
        "\n",
        "**The comparison x == y, where x and y are values, produces true or false. Such a comparison is performed as follows:**\n",
        "\n",
        "1. If Type(x) is the same as Type(y), then return the result of performing Strict Equality Comparison x === y.\n",
        "2. If x is null and y is undefined, return true.\n",
        "3. If x is undefined and y is null, return true.\n",
        "4. If Type(x) is Number and Type(y) is String, return the result of the comparison x == ToNumber(y).\n",
        "5. If Type(x) is String and Type(y) is Number, return the result of the comparison ToNumber(x) == y.\n",
        "6. If Type(x) is Boolean, return the result of the comparison ToNumber(x) == y.\n",
        "7. If Type(y) is Boolean, return the result of the comparison x == ToNumber(y).\n",
        "8. If Type(x) is either String, Number, or Symbol and Type(y) is Object, then return the result of the comparison x == ToPrimitive(y).\n",
        "9. If Type(x) is Object and Type(y) is either String, Number, or Symbol, then return the result of the comparison ToPrimitive(x) == y.\n",
        "10. Return false.\n",
        "\n",
        "Credit: https://stackoverflow.com/a/54567595"
      ]
    },
    {
      "cell_type": "markdown",
      "metadata": {
        "id": "JDHu6kOc3M6F",
        "colab_type": "text"
      },
      "source": [
        "## Functions are objects"
      ]
    },
    {
      "cell_type": "markdown",
      "metadata": {
        "id": "o7GnCwW5fbqW",
        "colab_type": "text"
      },
      "source": [
        "Functions are just objects of type 'Function'. \n",
        "\n",
        "Just like objects, functions have properties and methods attached to them.\n",
        "\n",
        "For example, functions have a ```name``` property and a ```toString``` method."
      ]
    },
    {
      "cell_type": "code",
      "metadata": {
        "id": "B5nwJgeH3Pxh",
        "colab_type": "code",
        "colab": {
          "base_uri": "https://localhost:8080/",
          "height": 85
        },
        "outputId": "eec82c5e-db13-41ac-8bb9-0f40cfdf3104"
      },
      "source": [
        "function anObject() {\n",
        "  return 42;\n",
        "};\n",
        "console.log(anObject.name);\n",
        "console.log(anObject.toString());"
      ],
      "execution_count": 17,
      "outputs": [
        {
          "output_type": "stream",
          "text": [
            "anObject\n",
            "function anObject() {\n",
            "  return 42;\n",
            "}\n"
          ],
          "name": "stdout"
        }
      ]
    },
    {
      "cell_type": "markdown",
      "metadata": {
        "id": "iRWz6mxm5Xgc",
        "colab_type": "text"
      },
      "source": [
        "#### You can do all operations on functions which are possible with objects."
      ]
    },
    {
      "cell_type": "markdown",
      "metadata": {
        "id": "l5zp40MWLvrO",
        "colab_type": "text"
      },
      "source": [
        "Hold the function in a variable, just like an object"
      ]
    },
    {
      "cell_type": "code",
      "metadata": {
        "id": "dl0ctbpi5sR1",
        "colab_type": "code",
        "colab": {}
      },
      "source": [
        "var funcInVariable = function () {\n",
        "  console.log(\"I am a function\");\n",
        "}"
      ],
      "execution_count": 18,
      "outputs": []
    },
    {
      "cell_type": "markdown",
      "metadata": {
        "id": "EA7lKChYL4Mj",
        "colab_type": "text"
      },
      "source": [
        "Take a function as a parameter, just like an object"
      ]
    },
    {
      "cell_type": "code",
      "metadata": {
        "id": "Sfkdzi_lL-9y",
        "colab_type": "code",
        "colab": {
          "base_uri": "https://localhost:8080/",
          "height": 34
        },
        "outputId": "1cc5b352-6bec-480d-b450-8f905105f5c6"
      },
      "source": [
        "function iTakeAFunction(func) {\n",
        "  func(); // and then execute it\n",
        "}\n",
        "iTakeAFunction(funcInVariable);"
      ],
      "execution_count": 19,
      "outputs": [
        {
          "output_type": "stream",
          "text": [
            "I am a function\n"
          ],
          "name": "stdout"
        }
      ]
    },
    {
      "cell_type": "markdown",
      "metadata": {
        "id": "INbPBHX7MGbK",
        "colab_type": "text"
      },
      "source": [
        "Return a function, like an object"
      ]
    },
    {
      "cell_type": "code",
      "metadata": {
        "id": "wSR8hGTXMJca",
        "colab_type": "code",
        "colab": {
          "base_uri": "https://localhost:8080/",
          "height": 34
        },
        "outputId": "21438aff-3daf-4853-d0e7-8de1d84bd78e"
      },
      "source": [
        "function iReturnAFunction(name) {\n",
        "  return function () {\n",
        "    console.log(\"Hello, \" + name);\n",
        "  }\n",
        "}\n",
        "var greetTheWorld = iReturnAFunction(\"World\");\n",
        "greetTheWorld(); // execute a function returned by a function"
      ],
      "execution_count": 20,
      "outputs": [
        {
          "output_type": "stream",
          "text": [
            "Hello, World\n"
          ],
          "name": "stdout"
        }
      ]
    },
    {
      "cell_type": "markdown",
      "metadata": {
        "id": "vBRv79fz7eeP",
        "colab_type": "text"
      },
      "source": [
        "## ```this``` is not what you expect"
      ]
    },
    {
      "cell_type": "markdown",
      "metadata": {
        "id": "gSSPI8p2nxZS",
        "colab_type": "text"
      },
      "source": [
        "Unlike other languages like Java where ```this``` refers to the current object; In JavaScript ```this``` does not always refer to the current object.\n",
        "\n",
        "```this``` depends on how you **invoke** the function."
      ]
    },
    {
      "cell_type": "code",
      "metadata": {
        "id": "qXTeIaEN2Riq",
        "colab_type": "code",
        "colab": {
          "base_uri": "https://localhost:8080/",
          "height": 85
        },
        "outputId": "ffdee99e-6f35-4a60-eee5-45c158bd0aea"
      },
      "source": [
        "function giveMeThis() {\n",
        "  return this;\n",
        "}\n",
        "\n",
        "// 1. when executed directly, this refers to window/global\n",
        "console.log(giveMeThis() === global);\n",
        "\n",
        "// 2. when executed using dot operator on an object, this refers to the object.\n",
        "var obj = {\n",
        "  attachedFunc: giveMeThis\n",
        "};\n",
        "console.log(obj.attachedFunc() === obj);\n",
        "\n",
        "// irrespective of how the function was attached to the object.\n",
        "obj.anotherAttachedFunc = giveMeThis;\n",
        "console.log(obj.anotherAttachedFunc() === obj);\n",
        "\n",
        "// [1] is true irrespective of where the function was declared/defined.\n",
        "var f = obj.attachedFunc;\n",
        "console.log(f() === global);"
      ],
      "execution_count": 21,
      "outputs": [
        {
          "output_type": "stream",
          "text": [
            "true\n",
            "true\n",
            "true\n",
            "true\n"
          ],
          "name": "stdout"
        }
      ]
    },
    {
      "cell_type": "markdown",
      "metadata": {
        "id": "A72xP9sdF8Jy",
        "colab_type": "text"
      },
      "source": [
        "### The inner function caveat"
      ]
    },
    {
      "cell_type": "markdown",
      "metadata": {
        "id": "NDbyvDIcF_h-",
        "colab_type": "text"
      },
      "source": [
        "When invoking an inner-function, you would think that the value of ```this``` won't change "
      ]
    },
    {
      "cell_type": "code",
      "metadata": {
        "id": "7GdQ12gOGue0",
        "colab_type": "code",
        "colab": {
          "base_uri": "https://localhost:8080/",
          "height": 51
        },
        "outputId": "9035bd92-35a8-4d3c-88ee-2419a05b7b6a"
      },
      "source": [
        "var myObj = {\n",
        "  parentFunction: function () {\n",
        "    console.log(\"parentFunction's this is myObj: \" + (this === myObj));\n",
        "\n",
        "    function innerFunction() {\n",
        "      console.log(\"but innerFunction's this is not myObj: \" + (this === myObj));\n",
        "    }\n",
        "\n",
        "    innerFunction(); // because you are invoking the function directly\n",
        "  }\n",
        "}\n",
        "\n",
        "myObj.parentFunction();"
      ],
      "execution_count": 22,
      "outputs": [
        {
          "output_type": "stream",
          "text": [
            "parentFunction's this is myObj: true\n",
            "but innerFunction's this is not myObj: false\n"
          ],
          "name": "stdout"
        }
      ]
    },
    {
      "cell_type": "markdown",
      "metadata": {
        "id": "l-Gq2a-4Hlhr",
        "colab_type": "text"
      },
      "source": [
        "#### The ```self``` variable"
      ]
    },
    {
      "cell_type": "markdown",
      "metadata": {
        "id": "eQMoiKi2IbIp",
        "colab_type": "text"
      },
      "source": [
        "A common pattern in JS to solve the above problem is to declare a variable named ```self``` and use that everywhere instead of ```this```."
      ]
    },
    {
      "cell_type": "code",
      "metadata": {
        "id": "LwaYVERRHj6R",
        "colab_type": "code",
        "colab": {
          "base_uri": "https://localhost:8080/",
          "height": 34
        },
        "outputId": "461640e3-f86a-4c74-db2c-cdb7d7e5a6e8"
      },
      "source": [
        "var myObj = {\n",
        "  parentFunction: function () {\n",
        "    var self = this;\n",
        "\n",
        "    function innerFunction() {\n",
        "      console.log('now self is myObj: ' + (self === myObj)); // using lexical env\n",
        "    }\n",
        "\n",
        "    innerFunction();\n",
        "  }\n",
        "}\n",
        "\n",
        "myObj.parentFunction();"
      ],
      "execution_count": 23,
      "outputs": [
        {
          "output_type": "stream",
          "text": [
            "now self is myObj: true\n"
          ],
          "name": "stdout"
        }
      ]
    },
    {
      "cell_type": "markdown",
      "metadata": {
        "id": "7OyV3Vgh6Sh_",
        "colab_type": "text"
      },
      "source": [
        "### ```this``` refers to the new object when calling a function constructor using ```new``` operator"
      ]
    },
    {
      "cell_type": "code",
      "metadata": {
        "id": "xpwzOuBd6bRu",
        "colab_type": "code",
        "colab": {
          "base_uri": "https://localhost:8080/",
          "height": 34
        },
        "outputId": "b04db33e-3140-46c7-e814-7c43b479d7d9"
      },
      "source": [
        "function Person(firstName, lastName) { // a constructor function\n",
        "  this.firstName = firstName; // 'this' refers to the newly created object\n",
        "  this.lastName = lastName;\n",
        "}\n",
        "\n",
        "var person = new Person('name', 'surname');\n",
        "console.log(person);"
      ],
      "execution_count": 24,
      "outputs": [
        {
          "output_type": "stream",
          "text": [
            "Person { firstName: 'name', lastName: 'surname' }\n"
          ],
          "name": "stdout"
        }
      ]
    },
    {
      "cell_type": "markdown",
      "metadata": {
        "id": "dxpVN3lU5ru5",
        "colab_type": "text"
      },
      "source": [
        "## Fixating ```this``` (```call```, ```apply``` and ```bind```)"
      ]
    },
    {
      "cell_type": "markdown",
      "metadata": {
        "id": "-a3BpfUfN3ZN",
        "colab_type": "text"
      },
      "source": [
        "### ```call```"
      ]
    },
    {
      "cell_type": "markdown",
      "metadata": {
        "id": "9BTRdnYZ_ZHg",
        "colab_type": "text"
      },
      "source": [
        "Every function has a ```call``` property, which is also a function. (remember, functions are objects)\n",
        "\n",
        "```call``` executes the function with ```this``` set as the first argument provided. All arguments passed to ```call``` after the first one are passed to the function."
      ]
    },
    {
      "cell_type": "code",
      "metadata": {
        "id": "QuPopEt99Nl0",
        "colab_type": "code",
        "colab": {}
      },
      "source": [
        "function printThis(arg) {\n",
        "  console.log(\"this === global? : \" + (this === global));\n",
        "  if (this !== global) {\n",
        "    console.log(this);\n",
        "  }\n",
        "  console.log('called with ' + arg);\n",
        "}"
      ],
      "execution_count": 25,
      "outputs": []
    },
    {
      "cell_type": "markdown",
      "metadata": {
        "id": "idI3QmK3NWEL",
        "colab_type": "text"
      },
      "source": [
        "When invoked normally, ```this``` refers to ```global```"
      ]
    },
    {
      "cell_type": "code",
      "metadata": {
        "id": "GHA5LDiiNP5Y",
        "colab_type": "code",
        "colab": {
          "base_uri": "https://localhost:8080/",
          "height": 51
        },
        "outputId": "44f5b42e-aa51-4ae1-ec99-604a733f9bbb"
      },
      "source": [
        "printThis(1);"
      ],
      "execution_count": 26,
      "outputs": [
        {
          "output_type": "stream",
          "text": [
            "this === global? : true\n",
            "called with 1\n"
          ],
          "name": "stdout"
        }
      ]
    },
    {
      "cell_type": "markdown",
      "metadata": {
        "id": "0syLbLi3Nff3",
        "colab_type": "text"
      },
      "source": [
        "When invoked using ```call```, ```this``` refers to the 1st argument"
      ]
    },
    {
      "cell_type": "code",
      "metadata": {
        "id": "WUeAh5HRNkB9",
        "colab_type": "code",
        "colab": {
          "base_uri": "https://localhost:8080/",
          "height": 68
        },
        "outputId": "bea71a5d-6f3b-435d-c880-3932da62c79f"
      },
      "source": [
        "var obj = {\n",
        "  key: 'just another object'\n",
        "}\n",
        "printThis.call(obj, 2);"
      ],
      "execution_count": 27,
      "outputs": [
        {
          "output_type": "stream",
          "text": [
            "this === global? : false\n",
            "{ key: 'just another object' }\n",
            "called with 2\n"
          ],
          "name": "stdout"
        }
      ]
    },
    {
      "cell_type": "markdown",
      "metadata": {
        "id": "D8gZcBZEN6av",
        "colab_type": "text"
      },
      "source": [
        "### ```apply```"
      ]
    },
    {
      "cell_type": "markdown",
      "metadata": {
        "id": "j6uYIwcgBNih",
        "colab_type": "text"
      },
      "source": [
        "```apply``` works same as ```call``` but it takes arguments as an array."
      ]
    },
    {
      "cell_type": "code",
      "metadata": {
        "id": "YylgJSUkAf9n",
        "colab_type": "code",
        "colab": {
          "base_uri": "https://localhost:8080/",
          "height": 68
        },
        "outputId": "7e6e4570-71ae-4865-bb44-01c0a09c9b0f"
      },
      "source": [
        "printThis.apply(obj, [3]);"
      ],
      "execution_count": 28,
      "outputs": [
        {
          "output_type": "stream",
          "text": [
            "this === global? : false\n",
            "{ key: 'just another object' }\n",
            "called with 3\n"
          ],
          "name": "stdout"
        }
      ]
    },
    {
      "cell_type": "markdown",
      "metadata": {
        "id": "X-ZfPMf8N9aL",
        "colab_type": "text"
      },
      "source": [
        "### ```bind```"
      ]
    },
    {
      "cell_type": "markdown",
      "metadata": {
        "id": "qG1Ymwa1BfNw",
        "colab_type": "text"
      },
      "source": [
        "```bind``` creates a new function which has the ```this``` fixed to what you want, irrespective of how you call the function later."
      ]
    },
    {
      "cell_type": "code",
      "metadata": {
        "id": "ZD7vr2wFBd0N",
        "colab_type": "code",
        "colab": {
          "base_uri": "https://localhost:8080/",
          "height": 68
        },
        "outputId": "1a6b7d33-c44e-4604-a9b3-f5034cfea838"
      },
      "source": [
        "var boundThis = printThis.bind(obj);\n",
        "boundThis(4); // if bind wasn't used, this ivocation would make this == global"
      ],
      "execution_count": 29,
      "outputs": [
        {
          "output_type": "stream",
          "text": [
            "this === global? : false\n",
            "{ key: 'just another object' }\n",
            "called with 4\n"
          ],
          "name": "stdout"
        }
      ]
    },
    {
      "cell_type": "markdown",
      "metadata": {
        "id": "rlm2DlOOo7zB",
        "colab_type": "text"
      },
      "source": [
        "## IIFE – Immediately Invoked Function Expressions"
      ]
    },
    {
      "cell_type": "markdown",
      "metadata": {
        "id": "nIMocZMTpMGl",
        "colab_type": "text"
      },
      "source": [
        "You can define a function and execute it immediately. This is called an IIFE."
      ]
    },
    {
      "cell_type": "code",
      "metadata": {
        "id": "vJCdh-lrrCbP",
        "colab_type": "code",
        "colab": {
          "base_uri": "https://localhost:8080/",
          "height": 34
        },
        "outputId": "eaf896f9-3452-4271-9a18-1030a1d3e16c"
      },
      "source": [
        "var output = function (num) {\n",
        "  return num + 5;\n",
        "}(1); // notice the \"(1)\"\n",
        "\n",
        "output;"
      ],
      "execution_count": 30,
      "outputs": [
        {
          "output_type": "execute_result",
          "data": {
            "text/plain": [
              "6"
            ]
          },
          "metadata": {
            "tags": []
          },
          "execution_count": 30
        }
      ]
    },
    {
      "cell_type": "markdown",
      "metadata": {
        "id": "hnrA_gbosVvw",
        "colab_type": "text"
      },
      "source": [
        "### Standalone IIFE"
      ]
    },
    {
      "cell_type": "code",
      "metadata": {
        "id": "H-dbOHaDtRLs",
        "colab_type": "code",
        "colab": {
          "base_uri": "https://localhost:8080/",
          "height": 317
        },
        "outputId": "334d9654-d8f1-4f28-dcd9-ab2cc442f576"
      },
      "source": [
        "function () {\n",
        "  // you cannot write an anonymous function like this \n",
        "} ();\n",
        "\n",
        "function name() {\n",
        "\n",
        "} (); // and you cannot execute a named function directly"
      ],
      "execution_count": 31,
      "outputs": [
        {
          "output_type": "error",
          "ename": "SyntaxError",
          "evalue": "ignored",
          "traceback": [
            "evalmachine.<anonymous>:1",
            "function () {",
            "         ^",
            "",
            "SyntaxError: Unexpected token (",
            "    at createScript (vm.js:80:10)",
            "    at Object.runInThisContext (vm.js:139:10)",
            "    at run ([eval]:1054:15)",
            "    at onRunRequest ([eval]:888:18)",
            "    at onMessage ([eval]:848:13)",
            "    at emitTwo (events.js:126:13)",
            "    at process.emit (events.js:214:7)",
            "    at emit (internal/child_process.js:772:12)",
            "    at _combinedTickCallback (internal/process/next_tick.js:141:11)",
            "    at process._tickCallback (internal/process/next_tick.js:180:9)"
          ]
        }
      ]
    },
    {
      "cell_type": "markdown",
      "metadata": {
        "id": "fY8IerCFuFdP",
        "colab_type": "text"
      },
      "source": [
        "But you can put the function in parenthesis to convert it into an expression"
      ]
    },
    {
      "cell_type": "code",
      "metadata": {
        "id": "MvBpanaRpYwX",
        "colab_type": "code",
        "colab": {
          "base_uri": "https://localhost:8080/",
          "height": 34
        },
        "outputId": "9b927e2c-9f36-4b0d-e4b2-ff832717e814"
      },
      "source": [
        "( // an expression that returns a function\n",
        "  function () {\n",
        "    console.log('I am an IIFE');\n",
        "  }\n",
        ")\n",
        "(); // execute the function returned by the previous expression"
      ],
      "execution_count": 32,
      "outputs": [
        {
          "output_type": "stream",
          "text": [
            "I am an IIFE\n"
          ],
          "name": "stdout"
        }
      ]
    },
    {
      "cell_type": "code",
      "metadata": {
        "id": "qn-Ve6kdv9PN",
        "colab_type": "code",
        "colab": {
          "base_uri": "https://localhost:8080/",
          "height": 34
        },
        "outputId": "54c8d82c-9ea6-4a73-ea5b-58d1556e7f8c"
      },
      "source": [
        "( // convert to expression\n",
        "  function name() { // named function\n",
        "    console.log('named IIFE');\n",
        "  }() // execute it\n",
        ");"
      ],
      "execution_count": 33,
      "outputs": [
        {
          "output_type": "stream",
          "text": [
            "named IIFE\n"
          ],
          "name": "stdout"
        }
      ]
    },
    {
      "cell_type": "markdown",
      "metadata": {
        "id": "m7WWXvlJx-Tw",
        "colab_type": "text"
      },
      "source": [
        "### Why use IIFE?\n",
        "IIFEs help create a separate namespace. \n",
        "\n",
        "Because function invocation creates a new execution context, it ensures that anything declared inside the function does not collide with the anything outside (like the global execution context).\n"
      ]
    },
    {
      "cell_type": "markdown",
      "metadata": {
        "id": "3Fg3bVXx47SF",
        "colab_type": "text"
      },
      "source": [
        "## Closures"
      ]
    },
    {
      "cell_type": "markdown",
      "metadata": {
        "id": "lf44P-W55G3t",
        "colab_type": "text"
      },
      "source": [
        "A closure is the combination of a function bundled together (enclosed) with references to its surrounding state (the lexical environment). In other words, a closure gives you access to an outer function’s scope from an inner function.\n",
        "\n",
        "https://developer.mozilla.org/en-US/docs/Web/JavaScript/Closures"
      ]
    },
    {
      "cell_type": "code",
      "metadata": {
        "id": "2Y5dQE2P49W-",
        "colab_type": "code",
        "colab": {
          "base_uri": "https://localhost:8080/",
          "height": 51
        },
        "outputId": "37025901-57c6-44b8-bf2e-1553d92aba26"
      },
      "source": [
        "function createPrintNameFunction(name) {\n",
        "  return function () {\n",
        "    console.log('Hello ' + name); // notice, name was passed to the outer function.\n",
        "  }\n",
        "} // and the outer function has completed its execution\n",
        "\n",
        "var printTony = createPrintNameFunction('Tony');\n",
        "var printStark = createPrintNameFunction('Stark');\n",
        "\n",
        "// but even when calling the inner function at a later time,\n",
        "// we have access to variables of the outer function\n",
        "printTony();\n",
        "printStark();\n",
        "// now re-read the definition"
      ],
      "execution_count": 34,
      "outputs": [
        {
          "output_type": "stream",
          "text": [
            "Hello Tony\n",
            "Hello Stark\n"
          ],
          "name": "stdout"
        }
      ]
    },
    {
      "cell_type": "markdown",
      "metadata": {
        "id": "MOcSVEtG9uD9",
        "colab_type": "text"
      },
      "source": [
        "### Variables in the closure can change after the inner function is created."
      ]
    },
    {
      "cell_type": "code",
      "metadata": {
        "id": "uT_4YGIC-H-2",
        "colab_type": "code",
        "colab": {
          "base_uri": "https://localhost:8080/",
          "height": 68
        },
        "outputId": "f79ccfea-f500-45f9-b239-355d1ac46633"
      },
      "source": [
        "var funcArr = [];\n",
        "for (var i = 0; i < 3; ++i) {\n",
        "  funcArr.push(\n",
        "    function () {\n",
        "      console.log(i);\n",
        "    }\n",
        "  )\n",
        "}\n",
        "funcArr[0]();\n",
        "funcArr[1]();\n",
        "funcArr[2]();"
      ],
      "execution_count": 35,
      "outputs": [
        {
          "output_type": "stream",
          "text": [
            "3\n",
            "3\n",
            "3\n"
          ],
          "name": "stdout"
        }
      ]
    },
    {
      "cell_type": "markdown",
      "metadata": {
        "id": "VBPsOu-FAtp5",
        "colab_type": "text"
      },
      "source": [
        "All functions print the same value, because all of them share the same closure, and the value of ```i``` is being updated in there.\n",
        "\n",
        "We can fix this by creating a new closure for each of the function."
      ]
    },
    {
      "cell_type": "code",
      "metadata": {
        "id": "4XQ_DRA0CTV7",
        "colab_type": "code",
        "colab": {
          "base_uri": "https://localhost:8080/",
          "height": 68
        },
        "outputId": "85052bcb-396f-46db-af3a-8e2b31964d5d"
      },
      "source": [
        "var funcArr = [];\n",
        "for (var i = 0; i < 3; ++i) {\n",
        "  funcArr.push(\n",
        "    (function (j) { // make a new closure for each function\n",
        "      return function () {\n",
        "        console.log(j);\n",
        "      }\n",
        "    }(i)) // notice, IIFE\n",
        "  )\n",
        "}\n",
        "funcArr[0]();\n",
        "funcArr[1]();\n",
        "funcArr[2]();"
      ],
      "execution_count": 36,
      "outputs": [
        {
          "output_type": "stream",
          "text": [
            "0\n",
            "1\n",
            "2\n"
          ],
          "name": "stdout"
        }
      ]
    },
    {
      "cell_type": "markdown",
      "metadata": {
        "id": "gettsoaFc8Dv",
        "colab_type": "text"
      },
      "source": [
        "## Prototypical Inheritance"
      ]
    },
    {
      "cell_type": "markdown",
      "metadata": {
        "id": "AR7qaYvvxqK8",
        "colab_type": "text"
      },
      "source": [
        "### The prototype chain"
      ]
    },
    {
      "cell_type": "markdown",
      "metadata": {
        "id": "FP5gu-PzzLne",
        "colab_type": "text"
      },
      "source": [
        "Every object has a prototype"
      ]
    },
    {
      "cell_type": "code",
      "metadata": {
        "id": "l0ZbFDdLztfe",
        "colab_type": "code",
        "colab": {
          "base_uri": "https://localhost:8080/",
          "height": 34
        },
        "outputId": "f10382a8-a6d7-4704-b327-7aa370dae098"
      },
      "source": [
        "var person = {\n",
        "  name: 'Tony Stark'\n",
        "};\n",
        "person.__proto__; // DO NOT DO THIS IN PRODUCTION CODE"
      ],
      "execution_count": 37,
      "outputs": [
        {
          "output_type": "execute_result",
          "data": {
            "text/plain": [
              "{}"
            ]
          },
          "metadata": {
            "tags": []
          },
          "execution_count": 37
        }
      ]
    },
    {
      "cell_type": "markdown",
      "metadata": {
        "id": "PbmuOcpe0CJy",
        "colab_type": "text"
      },
      "source": [
        "The prototype can be thought of as a parent object of the current object. Any property which is availabe on the parent object is also available on the child object."
      ]
    },
    {
      "cell_type": "code",
      "metadata": {
        "id": "90SnvUlx0ya3",
        "colab_type": "code",
        "colab": {
          "base_uri": "https://localhost:8080/",
          "height": 34
        },
        "outputId": "bee36611-e081-4d6c-a53a-9babdf1b7308"
      },
      "source": [
        "var person = {\n",
        "  name: 'Tony Stark'\n",
        "};\n",
        "var employee = {\n",
        "  empId: 10\n",
        "};\n",
        "employee.__proto__ = person; // DO NOT DO THIS IN PRODUCTION CODE\n",
        "employee.name; // name is not set on 'employee' but available on its prototype, i.e. 'person'"
      ],
      "execution_count": 38,
      "outputs": [
        {
          "output_type": "execute_result",
          "data": {
            "text/plain": [
              "'Tony Stark'"
            ]
          },
          "metadata": {
            "tags": []
          },
          "execution_count": 38
        }
      ]
    },
    {
      "cell_type": "markdown",
      "metadata": {
        "id": "p9CaDfsw1gM_",
        "colab_type": "text"
      },
      "source": [
        "The prototype object can have a prototype of its own. This recursive chain of prototypes is known as the **prototype chain**"
      ]
    },
    {
      "cell_type": "markdown",
      "metadata": {
        "id": "XQ6Akspa3aqs",
        "colab_type": "text"
      },
      "source": [
        "### Setting prototypes of newly created objects"
      ]
    },
    {
      "cell_type": "markdown",
      "metadata": {
        "id": "23waMAhBfJKq",
        "colab_type": "text"
      },
      "source": [
        "#### The ```new``` operator and Function Constructors"
      ]
    },
    {
      "cell_type": "markdown",
      "metadata": {
        "id": "_hRB0iyxgwfm",
        "colab_type": "text"
      },
      "source": [
        "The ```new``` operator creates a new (empty) object and then calls the function for initializing the newly created object. The initialization function is called a Function Constructor.\n",
        "The Function Constructor can access the newly created object using ```this```."
      ]
    },
    {
      "cell_type": "code",
      "metadata": {
        "id": "SFW6QSQqhGMn",
        "colab_type": "code",
        "colab": {
          "base_uri": "https://localhost:8080/",
          "height": 102
        },
        "outputId": "c172b45b-386f-4fc1-eafe-ace59a397eda"
      },
      "source": [
        "function Person(firstName, lastName) { // Function Constructor\n",
        "  console.log('I have received an empty new object: ');\n",
        "  console.log(this);\n",
        "  this.firstName = firstName;\n",
        "  this.lastName = lastName;\n",
        "  console.log('And I added 2 properties to it');\n",
        "  console.log(this);\n",
        "}\n",
        "\n",
        "var tony = new Person('Tony', 'Stark');\n",
        "tony;"
      ],
      "execution_count": 39,
      "outputs": [
        {
          "output_type": "stream",
          "text": [
            "I have received an empty new object: \n",
            "Person {}\n",
            "And I added 2 properties to it\n",
            "Person { firstName: 'Tony', lastName: 'Stark' }\n"
          ],
          "name": "stdout"
        },
        {
          "output_type": "execute_result",
          "data": {
            "text/plain": [
              "Person { firstName: 'Tony', lastName: 'Stark' }"
            ]
          },
          "metadata": {
            "tags": []
          },
          "execution_count": 39
        }
      ]
    },
    {
      "cell_type": "markdown",
      "metadata": {
        "id": "y7YKWSxf8_4i",
        "colab_type": "text"
      },
      "source": [
        "#### ```prototype``` defines ```__proto__```"
      ]
    },
    {
      "cell_type": "markdown",
      "metadata": {
        "id": "qnj2GUJQ8EcK",
        "colab_type": "text"
      },
      "source": [
        "1. Every **function** has a ```prototype``` property. But this is not the one which is in the prototype chain we saw earlier, that was ```__proto__``` and this is ```prototype```.\n",
        "\n",
        "2. Only functions have a ```prototype``` property. Any other objects don't have it by default.\n",
        "\n",
        "3. Any object created by a function constructor has its ```__proto__``` pointing to the constructor's ```prototype```. So whatever is set in the function's ```prototype``` is available in the object's prototype chain."
      ]
    },
    {
      "cell_type": "code",
      "metadata": {
        "id": "O_DTXhiD-jiP",
        "colab_type": "code",
        "colab": {
          "base_uri": "https://localhost:8080/",
          "height": 85
        },
        "outputId": "03f9d887-a48f-4f4d-c01f-1a0126e23666"
      },
      "source": [
        "function Person(firstName, lastName) {\n",
        "  this.firstName = firstName;\n",
        "  this.lastName = lastName;\n",
        "}\n",
        "Person.prototype.getFullName = function () {\n",
        "  return this.firstName + ' ' + this.lastName;\n",
        "}\n",
        "\n",
        "var tony = new Person('Tony', 'Stark');\n",
        "console.log(tony.__proto__ === Person.prototype);\n",
        "console.log(tony.getFullName());\n",
        "\n",
        "var bruce = new Person('Bruce', 'Wayne');\n",
        "// all objects created via the constructor have same prototype\n",
        "console.log(bruce.__proto__ === tony.__proto__);\n",
        "bruce.getFullName();"
      ],
      "execution_count": 40,
      "outputs": [
        {
          "output_type": "stream",
          "text": [
            "true\n",
            "Tony Stark\n",
            "true\n"
          ],
          "name": "stdout"
        },
        {
          "output_type": "execute_result",
          "data": {
            "text/plain": [
              "'Bruce Wayne'"
            ]
          },
          "metadata": {
            "tags": []
          },
          "execution_count": 40
        }
      ]
    },
    {
      "cell_type": "markdown",
      "metadata": {
        "id": "MU4K6600A5cP",
        "colab_type": "text"
      },
      "source": [
        "### Building a hierarchy"
      ]
    },
    {
      "cell_type": "code",
      "metadata": {
        "id": "lcOQjHO1BZyT",
        "colab_type": "code",
        "colab": {
          "base_uri": "https://localhost:8080/",
          "height": 85
        },
        "outputId": "18539180-3a2a-43fa-e182-13382ed3b003"
      },
      "source": [
        "function Person(firstName, lastName) {\n",
        "  this.firstName = firstName;\n",
        "  this.lastName = lastName;\n",
        "}\n",
        "Person.prototype.getFullName = function () {\n",
        "  return this.firstName + ' ' + this.lastName;\n",
        "}\n",
        "\n",
        "function SuperHero(firstName, lastName, superHeroName) {\n",
        "  // do all initialization in the Person constructor\n",
        "  Person.call(this, firstName, lastName); // notice, we fixated 'this' to the new object\n",
        "  this.superHeroName = superHeroName;\n",
        "}\n",
        "// by default the prototype of SuperHero will be empty\n",
        "console.log(SuperHero.prototype);\n",
        "// but we want to inherit everything defined on \"Person\"'s prototype\n",
        "// so we initialize the prototype with a new Person object\n",
        "SuperHero.prototype = new Person();\n",
        "console.log(SuperHero.prototype);\n",
        "\n",
        "// now we can add anything extra for SuperHero objects\n",
        "SuperHero.prototype.getSuperHeroName = function () {\n",
        "  return this.superHeroName;\n",
        "}\n",
        "\n",
        "var ironMan = new SuperHero('Tony', 'Stark', 'Iron Man');\n",
        "console.log(ironMan.getFullName()); // we have properties from Person\n",
        "console.log(ironMan.getSuperHeroName()); // and also from SuperHero"
      ],
      "execution_count": 41,
      "outputs": [
        {
          "output_type": "stream",
          "text": [
            "SuperHero {}\n",
            "Person { firstName: undefined, lastName: undefined }\n",
            "Tony Stark\n",
            "Iron Man\n"
          ],
          "name": "stdout"
        }
      ]
    },
    {
      "cell_type": "markdown",
      "metadata": {
        "id": "4ejaIdg17CPk",
        "colab_type": "text"
      },
      "source": [
        "## ES6 features"
      ]
    },
    {
      "cell_type": "markdown",
      "metadata": {
        "id": "kekUXFjpz318",
        "colab_type": "text"
      },
      "source": [
        "The following link is a collection of the new features introduced in ES6 along with examples: http://git.io/es6features"
      ]
    },
    {
      "cell_type": "markdown",
      "metadata": {
        "id": "O_BxR76gz4lE",
        "colab_type": "text"
      },
      "source": [
        "### ```let``` and ```const```"
      ]
    },
    {
      "cell_type": "markdown",
      "metadata": {
        "id": "hITVZ4Qo72gM",
        "colab_type": "text"
      },
      "source": [
        "Pitfalls of ```var```\n",
        "1. ```var```'s scope is the closest enclosing function.\n",
        "2. Redeclaring a ```var``` does not throw any errors.\n",
        "3. ```var```s can still be accessed before declaring them\n",
        "\n",
        "See:"
      ]
    },
    {
      "cell_type": "code",
      "metadata": {
        "id": "HKdWga-m7RD4",
        "colab_type": "code",
        "colab": {
          "base_uri": "https://localhost:8080/",
          "height": 68
        },
        "outputId": "8b94b455-3923-4865-f509-7792b51cbf1a"
      },
      "source": [
        "function problemsWithVar(a) {\n",
        "  console.log(count); // no error even though \"count\" is not yet defined. the value is undefined\n",
        "  var count = 5;\n",
        "  if (a) {\n",
        "    var count = 25; // re-declaring count again inside 'if' block changes the value of the outer count\n",
        "  }\n",
        "  console.log(count);\n",
        "  var count = 100; // var was already declared above twice. this is 3rd time. No errors.\n",
        "  console.log(count);\n",
        "}\n",
        "problemsWithVar(true);"
      ],
      "execution_count": 42,
      "outputs": [
        {
          "output_type": "stream",
          "text": [
            "undefined\n",
            "25\n",
            "100\n"
          ],
          "name": "stdout"
        }
      ]
    },
    {
      "cell_type": "markdown",
      "metadata": {
        "id": "VQERXL_78r9-",
        "colab_type": "text"
      },
      "source": [
        "All these problems are solved in ES6 with the newly introduced keyword ```let```"
      ]
    },
    {
      "cell_type": "code",
      "metadata": {
        "id": "G3lufFAz9Jim",
        "colab_type": "code",
        "colab": {
          "base_uri": "https://localhost:8080/",
          "height": 51
        },
        "outputId": "d5a60b99-3252-42f5-c721-e5f42b3ef6cc"
      },
      "source": [
        "function problemsWithVar(a) {\n",
        "  // console.log(count); // will throw an error\n",
        "  let count = 5;\n",
        "  if (a) {\n",
        "    let count = 25; // re-declaring with 'let' inside the if block does not affect the outer 'count'\n",
        "    // it creates a new variable limited to block's scope\n",
        "    console.log(count);\n",
        "  }\n",
        "  console.log(count);\n",
        "  // let count = 100; // Re-defining a let throws an error.\n",
        "}\n",
        "problemsWithVar(true);"
      ],
      "execution_count": 43,
      "outputs": [
        {
          "output_type": "stream",
          "text": [
            "25\n",
            "5\n"
          ],
          "name": "stdout"
        }
      ]
    },
    {
      "cell_type": "markdown",
      "metadata": {
        "id": "-PA001iV-CRQ",
        "colab_type": "text"
      },
      "source": [
        "```const``` is same as ```let```, with the added constraint that it cannot be redefined later.\n",
        "\n",
        "**Their value can still be changed though**"
      ]
    },
    {
      "cell_type": "code",
      "metadata": {
        "id": "CUAlnmd6-Zb4",
        "colab_type": "code",
        "colab": {
          "base_uri": "https://localhost:8080/",
          "height": 317
        },
        "outputId": "96800211-5116-4b9c-d432-e6d2433771ba"
      },
      "source": [
        "function cannotRedefineConst() {\n",
        "  let a = 1;\n",
        "  a = 2; // allowed\n",
        "\n",
        "  const b = 1;\n",
        "  b = 2; // not allowed, because it is a const\n",
        "}\n",
        "cannotRedefineConst();"
      ],
      "execution_count": 44,
      "outputs": [
        {
          "output_type": "error",
          "ename": "TypeError",
          "evalue": "ignored",
          "traceback": [
            "evalmachine.<anonymous>:6",
            "  b = 2; // not allowed, because it is a const",
            "    ^",
            "",
            "TypeError: Assignment to constant variable.",
            "    at cannotRedefineConst (evalmachine.<anonymous>:6:5)",
            "    at evalmachine.<anonymous>:8:1",
            "    at ContextifyScript.Script.runInThisContext (vm.js:50:33)",
            "    at Object.runInThisContext (vm.js:139:38)",
            "    at run ([eval]:1054:15)",
            "    at onRunRequest ([eval]:888:18)",
            "    at onMessage ([eval]:848:13)",
            "    at emitTwo (events.js:126:13)",
            "    at process.emit (events.js:214:7)",
            "    at emit (internal/child_process.js:772:12)"
          ]
        }
      ]
    },
    {
      "cell_type": "code",
      "metadata": {
        "id": "WNy95WJb-ukV",
        "colab_type": "code",
        "colab": {}
      },
      "source": [
        "function changeConstObjectsValue() {\n",
        "  const obj = {\n",
        "    name: 'A'\n",
        "  }\n",
        "\n",
        "  obj.name = 'B'; // allowed\n",
        "}\n",
        "changeConstObjectsValue();"
      ],
      "execution_count": 45,
      "outputs": []
    },
    {
      "cell_type": "markdown",
      "metadata": {
        "id": "MCebFFLo0EXX",
        "colab_type": "text"
      },
      "source": [
        "### Arrow functions"
      ]
    },
    {
      "cell_type": "markdown",
      "metadata": {
        "id": "TueYybyR0IKf",
        "colab_type": "text"
      },
      "source": [
        "Arrow functions are similar to lambdas in Python and Java."
      ]
    },
    {
      "cell_type": "markdown",
      "metadata": {
        "id": "uT6ObeSwlouE",
        "colab_type": "text"
      },
      "source": [
        "Example anonymous function for comparasion"
      ]
    },
    {
      "cell_type": "code",
      "metadata": {
        "id": "nseQAn2E0Q_v",
        "colab_type": "code",
        "colab": {
          "base_uri": "https://localhost:8080/",
          "height": 34
        },
        "outputId": "349ed46f-bd3f-409d-ff05-ad8ea9102538"
      },
      "source": [
        "var sum = function (a, b) {\n",
        "  return a + b;\n",
        "};\n",
        "sum(1, 2);"
      ],
      "execution_count": 118,
      "outputs": [
        {
          "output_type": "execute_result",
          "data": {
            "text/plain": [
              "3"
            ]
          },
          "metadata": {
            "tags": []
          },
          "execution_count": 118
        }
      ]
    },
    {
      "cell_type": "markdown",
      "metadata": {
        "id": "wp2lsg5UlwBT",
        "colab_type": "text"
      },
      "source": [
        "Arrow function example"
      ]
    },
    {
      "cell_type": "code",
      "metadata": {
        "id": "Pr0rZ7vYl87Q",
        "colab_type": "code",
        "colab": {
          "base_uri": "https://localhost:8080/",
          "height": 34
        },
        "outputId": "a0178265-6523-47fd-e844-e16eb7f96083"
      },
      "source": [
        "var diff = (a, b) => a - b; // implicit return for single line expressions\n",
        "diff(1, 2);"
      ],
      "execution_count": 120,
      "outputs": [
        {
          "output_type": "execute_result",
          "data": {
            "text/plain": [
              "-1"
            ]
          },
          "metadata": {
            "tags": []
          },
          "execution_count": 120
        }
      ]
    },
    {
      "cell_type": "markdown",
      "metadata": {
        "id": "7EPUBghxmGHa",
        "colab_type": "text"
      },
      "source": [
        "Parenthesis are optional for single param function"
      ]
    },
    {
      "cell_type": "code",
      "metadata": {
        "id": "rSrPoBRmmKvA",
        "colab_type": "code",
        "colab": {
          "base_uri": "https://localhost:8080/",
          "height": 34
        },
        "outputId": "487a81dc-1a26-4147-b6ea-f56e7428e89c"
      },
      "source": [
        "var square = a => a * a;\n",
        "square(2);"
      ],
      "execution_count": 122,
      "outputs": [
        {
          "output_type": "execute_result",
          "data": {
            "text/plain": [
              "4"
            ]
          },
          "metadata": {
            "tags": []
          },
          "execution_count": 122
        }
      ]
    },
    {
      "cell_type": "markdown",
      "metadata": {
        "id": "LSPXl9LqmVp-",
        "colab_type": "text"
      },
      "source": [
        "Multi-line functions need braces and explicit return"
      ]
    },
    {
      "cell_type": "code",
      "metadata": {
        "id": "RfBtA3eFmVG8",
        "colab_type": "code",
        "colab": {
          "base_uri": "https://localhost:8080/",
          "height": 34
        },
        "outputId": "573a7407-a122-4445-cfae-cfec13045370"
      },
      "source": [
        "var both = (a, b) => { // use braces for multi-line functions\n",
        "  var sum = a + b;\n",
        "  var diff = a - b;\n",
        "  return { // explicit return is needed for multi-line functions\n",
        "    sum: sum,\n",
        "    diff: diff\n",
        "  };\n",
        "};\n",
        "both(1, 2);"
      ],
      "execution_count": 128,
      "outputs": [
        {
          "output_type": "execute_result",
          "data": {
            "text/plain": [
              "{ sum: 3, diff: -1 }"
            ]
          },
          "metadata": {
            "tags": []
          },
          "execution_count": 128
        }
      ]
    },
    {
      "cell_type": "markdown",
      "metadata": {
        "id": "iNMYP5ihDrMo",
        "colab_type": "text"
      },
      "source": [
        "### Classes"
      ]
    },
    {
      "cell_type": "markdown",
      "metadata": {
        "id": "amTtdgLEDw2U",
        "colab_type": "text"
      },
      "source": [
        "The following code builds the same hierarchy as built previously using function constructors, but instead uses ES6's classes"
      ]
    },
    {
      "cell_type": "code",
      "metadata": {
        "id": "0wYhUQKFEBwy",
        "colab_type": "code",
        "colab": {}
      },
      "source": [
        "class Person2 {\n",
        "  constructor(firstName, lastName) {\n",
        "    this.firstName = firstName;\n",
        "    this.lastName = lastName;\n",
        "  }\n",
        "\n",
        "  getFullName() {\n",
        "    return this.firstName + ' ' + this.lastName;\n",
        "  }\n",
        "}\n",
        "\n",
        "class SuperHero2 extends Person2 {\n",
        "  constructor(firstName, lastName, superHeroName) {\n",
        "    super(firstName, lastName);\n",
        "    this.superHeroName = superHeroName;\n",
        "  }\n",
        "\n",
        "  getSuperHeroName() {\n",
        "    return this.superHeroName;\n",
        "  }\n",
        "}"
      ],
      "execution_count": 47,
      "outputs": []
    },
    {
      "cell_type": "code",
      "metadata": {
        "id": "eWsaBVpNFoad",
        "colab_type": "code",
        "colab": {
          "base_uri": "https://localhost:8080/",
          "height": 34
        },
        "outputId": "e91aea38-b9d3-4ea7-fefc-5570633dfeb0"
      },
      "source": [
        "var cap = new SuperHero2('Steve', 'Rogers', 'Captain America');\n",
        "console.log(cap.getFullName() + ' is ' + cap.getSuperHeroName());"
      ],
      "execution_count": 48,
      "outputs": [
        {
          "output_type": "stream",
          "text": [
            "Steve Rogers is Captain America\n"
          ],
          "name": "stdout"
        }
      ]
    }
  ]
}
